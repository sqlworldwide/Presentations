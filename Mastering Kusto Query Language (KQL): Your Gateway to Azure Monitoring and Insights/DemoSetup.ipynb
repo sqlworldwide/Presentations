{
    "metadata": {
        "kernelspec": {
            "name": "powershell",
            "display_name": "PowerShell",
            "language": "powershell"
        },
        "language_info": {
            "name": "powershell",
            "codemirror_mode": "shell",
            "mimetype": "text/x-sh",
            "file_extension": ".ps1"
        },
        "extensions": {
            "azuredatastudio": {
                "version": 1,
                "views": []
            }
        }
    },
    "nbformat_minor": 2,
    "nbformat": 4,
    "cells": [
        {
            "cell_type": "markdown",
            "source": [
                "# DemoKustoQueryLanguage.ipynb\n",
                "\n",
                "Written by Taiob  Ali\n",
                "\n",
                "SqlWorldWide.com"
            ],
            "metadata": {
                "azdata_cell_guid": "c62edc56-05d8-4b7a-b122-cb400cad1a95",
                "extensions": {
                    "azuredatastudio": {
                        "views": []
                    }
                }
            }
        },
        {
            "cell_type": "markdown",
            "source": [
                "## Set up Demo"
            ],
            "metadata": {
                "azdata_cell_guid": "0c65f845-21b2-48c8-b1bb-2f39dbd0052b",
                "extensions": {
                    "azuredatastudio": {
                        "views": []
                    }
                }
            }
        },
        {
            "cell_type": "markdown",
            "source": [
                "Setup section of the notebook will create:\n",
                "\n",
                "- A resource group\n",
                "- One logical SQL server\n",
                "- Empty sample databases\n",
                "- Create Log AnalyticsWorkspace\n",
                "- Setting up an action group(Azure Alert)\n",
                "- Creates a Log Alert Rule (Scheduled Query Rule type) using Kusto Query Language\n",
                "- Clean up code at the end\n",
                "\n",
                "<mark>Script can take between 5~8 minutes during my test. Mileage will vary in your case</mark>\n",
                "\n",
                "Credit:\n",
                "\n",
                "- [https://docs.microsoft.com/en-us/azure/sql-database/sql-database-get-started-powershell](https://docs.microsoft.com/en-us/azure/sql-database/sql-database-get-started-powershell)\n",
                "- [https://gallery.technet.microsoft.com/scriptcenter/Get-ExternalPublic-IP-c1b601bb](https://gallery.technet.microsoft.com/scriptcenter/Get-ExternalPublic-IP-c1b601bb)"
            ],
            "metadata": {
                "azdata_cell_guid": "767a2514-af31-4c20-9bb6-f15d9f4f7ba0",
                "extensions": {
                    "azuredatastudio": {
                        "views": []
                    }
                }
            }
        },
        {
            "cell_type": "markdown",
            "source": [
                "<span style=\"color: rgb(23, 23, 23); font-family: &quot;Segoe UI&quot;, SegoeUI, &quot;Helvetica Neue&quot;, Helvetica, Arial, sans-serif; font-size: 16px; background-color: rgb(226, 218, 241);\">PowerShell 7 and later is the recommended version of PowerShell for use with Az PowerShell on all platforms.</span>\n",
                "\n",
                "To check the version of PowerShell running on your machine, run the following command.\n",
                "\n",
                "If you have an outdated version, upgrade from:  \n",
                "[https://github.com/PowerShell/PowerShell](https://github.com/PowerShell/PowerShell)"
            ],
            "metadata": {
                "azdata_cell_guid": "266a34d5-58d4-4a15-9ed8-e6fc9dff3aef",
                "extensions": {
                    "azuredatastudio": {
                        "views": []
                    }
                }
            }
        },
        {
            "cell_type": "code",
            "source": [
                "$PSVersionTable.PSVersion"
            ],
            "metadata": {
                "azdata_cell_guid": "5d8b7469-eef1-4142-a211-5e98bc2d8326",
                "extensions": {
                    "azuredatastudio": {
                        "views": []
                    }
                }
            },
            "outputs": [],
            "execution_count": null
        },
        {
            "cell_type": "markdown",
            "source": [
                "Install Az Module if you do not have it.  \n",
                "[https://docs.microsoft.com/en-us/powershell/azure/install-az-ps?view=azps-5.4.0](https://docs.microsoft.com/en-us/powershell/azure/install-az-ps?view=azps-5.4.0)"
            ],
            "metadata": {
                "azdata_cell_guid": "e7f237d5-0351-4046-91d5-da0f8feb7df0",
                "extensions": {
                    "azuredatastudio": {
                        "views": []
                    }
                }
            }
        },
        {
            "cell_type": "code",
            "source": [
                "Install-Module -Name Az"
            ],
            "metadata": {
                "azdata_cell_guid": "5281a922-44b0-45b8-b676-e2af34dbbd4d"
            },
            "outputs": [],
            "execution_count": null
        },
        {
            "cell_type": "code",
            "source": [
                "Import-Module -name Az "
            ],
            "metadata": {
                "azdata_cell_guid": "42358339-cb0d-40af-a36a-8722439f3e37",
                "extensions": {
                    "azuredatastudio": {
                        "views": []
                    }
                }
            },
            "outputs": [
                {
                    "name": "stdout",
                    "text": "",
                    "output_type": "stream"
                }
            ],
            "execution_count": 2
        },
        {
            "cell_type": "markdown",
            "source": [
                "Setup your Debug Preference\n",
                "\n",
                "[https://docs.microsoft.com/en-us/powershell/module/microsoft.powershell.core/about/about\\_preference\\_variables?view=powershell-7.1#debugpreference](https://docs.microsoft.com/en-us/powershell/module/microsoft.powershell.core/about/about_preference_variables?view=powershell-7.1#debugpreference)  \n",
                "This example shows the effect of `$DebugPreference` with the Continue value. The debug message is displayed and the command continues to process."
            ],
            "metadata": {
                "azdata_cell_guid": "fd7fa2d2-3699-4ef9-92d9-071f3cf4162b",
                "extensions": {
                    "azuredatastudio": {
                        "views": []
                    }
                }
            }
        },
        {
            "cell_type": "code",
            "source": [
                "$DebugPreference = \"Continue\"\r\n",
                "Write-Debug -Message \"Hello, World\""
            ],
            "metadata": {
                "azdata_cell_guid": "ccfe2f28-3cb3-4572-8793-d73dc06252d3",
                "extensions": {
                    "azuredatastudio": {
                        "views": []
                    }
                }
            },
            "outputs": [],
            "execution_count": null
        },
        {
            "cell_type": "markdown",
            "source": [
                "Sign in to Azure"
            ],
            "metadata": {
                "azdata_cell_guid": "f70d31e8-4322-45ac-ac62-8cd4e16191c2",
                "extensions": {
                    "azuredatastudio": {
                        "views": []
                    }
                }
            }
        },
        {
            "cell_type": "code",
            "source": [
                "Connect-AzAccount "
            ],
            "metadata": {
                "azdata_cell_guid": "2b5cbb4c-35c3-44a5-9ee8-7e6cde2c1bae",
                "extensions": {
                    "azuredatastudio": {
                        "views": []
                    }
                }
            },
            "outputs": [],
            "execution_count": null
        },
        {
            "cell_type": "markdown",
            "source": [
                "If you need to see the list of your subscription\n",
                "\n",
                "<span style=\"color: rgb(106, 153, 85);\">$SubscriptionList=Get-AzSubscription</span><span style=\"color: rgb(106, 153, 85);\">$SubscriptionList</span>\n",
                "\n",
                "Use below code if you have multiple subscription and you want to use a particular one"
            ],
            "metadata": {
                "azdata_cell_guid": "48b9d9a5-0a62-4e41-900e-f389daed4e33",
                "extensions": {
                    "azuredatastudio": {
                        "views": []
                    }
                }
            },
            "attachments": {}
        },
        {
            "cell_type": "code",
            "source": [
                "Set-AzContext -SubscriptionId '18d92f52-ac34-4379-ab8b-5a5106f1c54e'"
            ],
            "metadata": {
                "azdata_cell_guid": "2aada1f7-62a8-4027-acca-bc73b3e0bdf6",
                "extensions": {
                    "azuredatastudio": {
                        "views": []
                    }
                }
            },
            "outputs": [],
            "execution_count": null
        },
        {
            "cell_type": "markdown",
            "source": [
                "Breaking change warnings are a means for the cmdlet authors to communicate with the end users any upcoming breaking changes in the cmdlet. Most of these changes will be taking effect in the next breaking change release. \n",
                "\n",
                "How do I get rid of the warnings? \n",
                "\n",
                "To suppress these warning messages, set the environment variable 'SuppressAzurePowerShellBreakingChangeWarnings' to 'true'."
            ],
            "metadata": {
                "azdata_cell_guid": "942e802b-b8e0-4b5f-b3cb-cf534c180dee",
                "extensions": {
                    "azuredatastudio": {
                        "views": []
                    }
                }
            }
        },
        {
            "cell_type": "code",
            "source": [
                "Set-Item Env:\\SuppressAzurePowerShellBreakingChangeWarnings \"true\""
            ],
            "metadata": {
                "azdata_cell_guid": "f161785c-4371-4800-90cf-413fbd22eca0",
                "extensions": {
                    "azuredatastudio": {
                        "views": []
                    }
                }
            },
            "outputs": [],
            "execution_count": null
        },
        {
            "cell_type": "markdown",
            "source": [
                "Declare Variables"
            ],
            "metadata": {
                "azdata_cell_guid": "05538bda-c06f-4de6-a9f4-33f54b328d53",
                "extensions": {
                    "azuredatastudio": {
                        "views": []
                    }
                }
            }
        },
        {
            "cell_type": "code",
            "source": [
                "# The region and resource group name\r\n",
                "$resourceGroupName = \"sqlalertdemo1\"\r\n",
                "$rgLocation = \"East US\"  \r\n",
                "# Log Analytics workspace name\r\n",
                "$workspaceName = \"Sqlalertdemo2\"\r\n",
                "# The logical server name: Use a random value or replace with your own value (do not capitalize)\r\n",
                "$sqlServerName = \"sqlalertdemoserver\"\r\n",
                "# The database name\r\n",
                "$alertDemoDatabase = \"sqlalertdemodatabase\"\r\n",
                "\r\n",
                "# Set an admin login and password for your database\r\n",
                "# The login information for the server\r\n",
                "$adminlogin = \"taiob\"\r\n",
                "#Replace with password file location\r\n",
                "$password = Get-Content \"C:\\password.txt\"\r\n",
                "\r\n",
                "# The ip address range that you want to allow to access your server - change as appropriate\r\n",
                "$ipinfo = Invoke-RestMethod http://ipinfo.io/json \r\n",
                "$startip = $ipinfo.ip\r\n",
                "$endip = $ipinfo.ip "
            ],
            "metadata": {
                "azdata_cell_guid": "228f6ae8-904c-469e-b17e-004cc7442110",
                "extensions": {
                    "azuredatastudio": {
                        "views": []
                    }
                }
            },
            "outputs": [],
            "execution_count": null
        },
        {
            "cell_type": "markdown",
            "source": [
                "Check if Resource group exists. If exist delete the resource group.\n",
                "\n",
                "Create a new Resource group"
            ],
            "metadata": {
                "azdata_cell_guid": "06a55aa8-77de-46ab-a394-754c4c5e5d26",
                "extensions": {
                    "azuredatastudio": {
                        "views": []
                    }
                }
            }
        },
        {
            "cell_type": "code",
            "source": [
                "$resGrpChk = Get-AzResourceGroup `\r\n",
                "    -Name $resourceGroupName `\r\n",
                "    -ev notPresent `\r\n",
                "    -ea 0\r\n",
                "\r\n",
                "if ($resGrpChk) {  \r\n",
                "    #Delete resource group\r\n",
                "    Remove-AzResourceGroup `\r\n",
                "        -Name $resourceGroupName -Confirm   \r\n",
                "    Write-Host 'Resource group deleted' `\r\n",
                "        -fore white `\r\n",
                "        -back green\r\n",
                "}\r\n",
                "\r\n",
                "New-AzResourceGroup `\r\n",
                "    -Name $resourceGroupName `\r\n",
                "    -Location \"East US 2\"    \r\n",
                "Write-Host 'Resource group created' `\r\n",
                "    -fore white `\r\n",
                "    -back green"
            ],
            "metadata": {
                "azdata_cell_guid": "4d26df09-6f95-4268-9994-3627bcef11e8",
                "extensions": {
                    "azuredatastudio": {
                        "views": []
                    }
                }
            },
            "outputs": [],
            "execution_count": null
        },
        {
            "cell_type": "markdown",
            "source": [
                "- Creating a Azure SQL server\n",
                "- Configure server firewall rule for the server\n",
                "- Create an empty database"
            ],
            "metadata": {
                "azdata_cell_guid": "913e1f97-b418-46ad-b557-77c640329b22",
                "extensions": {
                    "azuredatastudio": {
                        "views": []
                    }
                }
            }
        },
        {
            "cell_type": "code",
            "source": [
                "New-AzSqlServer `\r\n",
                "    -ResourceGroupName $resourceGroupName `\r\n",
                "    -ServerName $sqlServerName `\r\n",
                "    -Location $rgLocation `\r\n",
                "    -SqlAdministratorCredentials $(New-Object -TypeName System.Management.Automation.PSCredential `\r\n",
                "    -ArgumentList $adminlogin, $(ConvertTo-SecureString -String $password -AsPlainText -Force))\r\n",
                "\r\n",
                "New-AzSqlServerFirewallRule `\r\n",
                "    -ResourceGroupName $resourceGroupName `\r\n",
                "    -ServerName $sqlServerName `\r\n",
                "    -FirewallRuleName \"TaiobDesktop\" `\r\n",
                "    -StartIpAddress $startip `\r\n",
                "    -EndIpAddress $endip\r\n",
                "\r\n",
                "New-AzSqlServerFirewallRule `\r\n",
                "    -ServerName $sqlServerName `\r\n",
                "    -ResourceGroupName $resourceGroupName  `\r\n",
                "    -AllowAllAzureIPs\r\n",
                "\r\n",
                "New-AzSqlDatabase  `\r\n",
                "    -ResourceGroupName $resourceGroupName `\r\n",
                "    -ServerName $sqlServerName `\r\n",
                "    -DatabaseName $alertDemoDatabase `\r\n",
                "    -Edition \"Standard\" `\r\n",
                "    -RequestedServiceObjectiveName \"S0\" `\r\n",
                "    -MaxSizeBytes 10737418240 "
            ],
            "metadata": {
                "azdata_cell_guid": "4a876947-028f-4de6-ac5d-edd53dc35eb5",
                "extensions": {
                    "azuredatastudio": {
                        "views": []
                    }
                }
            },
            "outputs": [],
            "execution_count": null
        },
        {
            "cell_type": "markdown",
            "source": [
                "- Create a log analytics workspace\n",
                "- Enable solutions\n",
                "- Setup diagonstic for the Azure SQL Database, detination to the log analytics workspace"
            ],
            "metadata": {
                "azdata_cell_guid": "073fc24a-ccdc-4ef6-8f33-ba81294480ba",
                "extensions": {
                    "azuredatastudio": {
                        "views": []
                    }
                }
            }
        },
        {
            "cell_type": "code",
            "source": [
                "#Create a log analytics workspace\r\n",
                "New-AzOperationalInsightsWorkspace `\r\n",
                "    -Location $rgLocation `\r\n",
                "    -Name $workspaceName `\r\n",
                "    -Sku Standard `\r\n",
                "    -ResourceGroupName $resourceGroupName\r\n",
                "\r\n",
                "# List of solutions to enable for the log analytics workspace you create above\r\n",
                "$Solutions = \"Security\", \"Updates\", \"SQLAssessment\"\r\n",
                "# Add solutions\r\n",
                "foreach ($solution in $Solutions) {\r\n",
                "    Set-AzOperationalInsightsIntelligencePack `\r\n",
                "    -ResourceGroupName $resourceGroupName `\r\n",
                "    -WorkspaceName $workspaceName `\r\n",
                "    -IntelligencePackName $solution -Enabled $true\r\n",
                "}\r\n",
                "\r\n",
                "# Setting up Azure SQL Database to send diagonstic data to log analytics workspace created above\r\n",
                "$workspaceId = (Get-AzResource -name $workspaceName).ResourceId\r\n",
                "$databaseId = (Get-AzsqlDatabase -ServerName $sqlServerName -DatabaseName $alertDemoDatabase -ResourceGroupName $resourceGroupName).ResourceId"
            ],
            "metadata": {
                "azdata_cell_guid": "146ab8c1-eb12-436c-94a2-b94768f0beb9",
                "extensions": {
                    "azuredatastudio": {
                        "views": []
                    }
                }
            },
            "outputs": [],
            "execution_count": null
        },
        {
            "cell_type": "markdown",
            "source": [
                "Make sure your subscription is registered for microsoft.insights \n",
                "\n",
                "If you get an error about 'not registered' read this \n",
                "\n",
                "[https://kasunkodagoda.com/2019/03/10/registering-azure-resource-providers-to-enable-azure-features/](https://kasunkodagoda.com/2019/03/10/registering-azure-resource-providers-to-enable-azure-features/)"
            ],
            "metadata": {
                "azdata_cell_guid": "699d5752-6c24-49b1-b74b-22fd54e6fa05",
                "extensions": {
                    "azuredatastudio": {
                        "views": []
                    }
                }
            }
        },
        {
            "cell_type": "code",
            "source": [
                "Set-AzDiagnosticSetting `\r\n",
                "    -WorkspaceId $workspaceId `\r\n",
                "    -ResourceId $databaseId `\r\n",
                "    -Enabled $True `\r\n",
                "    -Name \"sqlalertdemo\""
            ],
            "metadata": {
                "azdata_cell_guid": "cffa1163-076a-4aed-8c3b-1adff167646c",
                "extensions": {
                    "azuredatastudio": {
                        "views": []
                    }
                }
            },
            "outputs": [],
            "execution_count": null
        },
        {
            "cell_type": "markdown",
            "source": [
                "Setting up action group to use with the alert"
            ],
            "metadata": {
                "azdata_cell_guid": "193d1b3f-b074-4fb5-a847-1e49ce623600",
                "extensions": {
                    "azuredatastudio": {
                        "views": []
                    }
                }
            }
        },
        {
            "cell_type": "code",
            "source": [
                "$emailaddress = 'taiob@sqlworldwide.com'\r\n",
                "$phoneNumber = 9784272092\r\n",
                "$emailDBA = \r\n",
                "New-AzActionGroupReceiver `\r\n",
                "    -Name 'emailDBA' `\r\n",
                "    -EmailAddress $emailaddress\r\n",
                "$smsDBA = \r\n",
                "New-AzActionGroupReceiver  `\r\n",
                "    -Name 'smsDBA' -SmsReceiver `\r\n",
                "    -CountryCode '1' `\r\n",
                "    -PhoneNumber $phoneNumber \r\n",
                "$phoneDBA = \r\n",
                "New-AzActionGroupReceiver `\r\n",
                "    -Name 'phoneDBA' `\r\n",
                "    -VoiceReceiver -VoiceCountryCode '1' `\r\n",
                "    -VoicePhoneNumber $phoneNumber \r\n",
                " \r\n",
                "Set-AzActionGroup `\r\n",
                "    -Name 'notifydbadeadlock' `\r\n",
                "    -ResourceGroupName $resourceGroupName `\r\n",
                "    -ShortName 'deadlock' `\r\n",
                "    -Receiver $emailDBA,$smsDBA,$phoneDBA\r\n",
                "\r\n",
                "# Retreive action group id\r\n",
                "$actionGroupId =(Get-AzResource -name 'notifydbadeadlock').ResourceId"
            ],
            "metadata": {
                "azdata_cell_guid": "8c7fa420-92be-46c5-8244-e1596372f72a",
                "extensions": {
                    "azuredatastudio": {
                        "views": []
                    }
                }
            },
            "outputs": [],
            "execution_count": null
        },
        {
            "cell_type": "markdown",
            "source": [
                "I am using a simple Kusto query here for demo purpose.\r\n",
                "In production I will use this one:\r\n",
                "```\r\n",
                "AzureMetrics\r\n",
                "| where ResourceProvider == \"MICROSOFT.SQL\"\r\n",
                "| where TimeGenerated >=ago(60min)\r\n",
                "| where MetricName in ('deadlock')\r\n",
                "| parse _ResourceId with * \"/microsoft.sql/servers/\" Resource // subtract Resource name for _ResourceId\r\n",
                "| summarize Deadlock_max_60Mins = max(Maximum) by Resource, MetricName\r\n",
                "```"
            ],
            "metadata": {
                "azdata_cell_guid": "fedd4516-55fe-4093-94a4-8935f1ff06f3",
                "extensions": {
                    "azuredatastudio": {
                        "views": []
                    }
                }
            }
        },
        {
            "cell_type": "markdown",
            "source": [
                "Creating the Azure alert"
            ],
            "metadata": {
                "azdata_cell_guid": "b1d96816-7352-4032-b57a-48e8822709c7",
                "extensions": {
                    "azuredatastudio": {
                        "views": []
                    }
                }
            }
        },
        {
            "cell_type": "code",
            "source": [
                "$source =\r\n",
                "New-AzScheduledQueryRuleSource  `\r\n",
                "    -Query \"AzureMetrics | where MetricName == 'deadlock' \"  `\r\n",
                "    -DataSourceId $workspaceId\r\n",
                "\r\n",
                "$schedule = \r\n",
                "New-AzScheduledQueryRuleSchedule `\r\n",
                "    -FrequencyInMinutes 15 `\r\n",
                "    -TimeWindowInMinutes 30\r\n",
                "    \r\n",
                "$triggerCondition = \r\n",
                "New-AzScheduledQueryRuleTriggerCondition `\r\n",
                "    -ThresholdOperator  \"GreaterThan\" `\r\n",
                "    -Threshold 0 \r\n",
                "    \r\n",
                "$aznsActionGroup = \r\n",
                "New-AzScheduledQueryRuleAznsActionGroup `\r\n",
                "    -ActionGroup $actionGroupId `\r\n",
                "    -EmailSubject \"Deadlock Found\" \r\n",
                "\r\n",
                "$alertingAction = \r\n",
                "New-AzScheduledQueryRuleAlertingAction `\r\n",
                "    -AznsAction $aznsActionGroup `\r\n",
                "    -Severity \"3\" `\r\n",
                "    -Trigger $triggerCondition\r\n",
                "\r\n",
                "New-AzScheduledQueryRule `\r\n",
                "    -ResourceGroupName $resourceGroupName `\r\n",
                "    -Location $rgLocation `\r\n",
                "    -Action $alertingAction `\r\n",
                "    -Enabled $true `\r\n",
                "    -Description \"This alert will be fired when a deadlock is found in last 30 minutes \" `\r\n",
                "    -Source $source `\r\n",
                "    -Schedule $schedule `\r\n",
                "    -Name \"Found Deadlock Alert\""
            ],
            "metadata": {
                "azdata_cell_guid": "991e9e39-980e-40cd-b93f-0a1a86c09736",
                "extensions": {
                    "azuredatastudio": {
                        "views": []
                    }
                }
            },
            "outputs": [],
            "execution_count": null
        },
        {
            "cell_type": "markdown",
            "source": [
                "Enable the log analytics auditing policy of an Azure SQL server  "
            ],
            "metadata": {
                "azdata_cell_guid": "714596a7-fbfd-4a9b-b8cc-116049dba28c",
                "extensions": {
                    "azuredatastudio": {
                        "views": []
                    }
                }
            }
        },
        {
            "cell_type": "code",
            "source": [
                "Set-AzSqlServerAudit `\r\n",
                "    -ResourceGroupName $resourceGroupName `\r\n",
                "    -ServerName $sqlServerName `\r\n",
                "    -LogAnalyticsTargetState Enabled `\r\n",
                "    -WorkspaceResourceId $workspaceId"
            ],
            "metadata": {
                "azdata_cell_guid": "82f255a5-4aff-4d6f-8f2e-f8908b2e92ac",
                "extensions": {
                    "azuredatastudio": {
                        "views": []
                    }
                }
            },
            "outputs": [],
            "execution_count": null
        },
        {
            "cell_type": "markdown",
            "source": [
                "Demo alert using DemoDeadlock.ipynb notebook"
            ],
            "metadata": {
                "azdata_cell_guid": "3e0e2a8a-242d-4603-8cb2-fea9d2281744",
                "extensions": {
                    "azuredatastudio": {
                        "views": []
                    }
                }
            }
        },
        {
            "cell_type": "markdown",
            "source": [
                "Clean up by removing resource group name"
            ],
            "metadata": {
                "azdata_cell_guid": "335b19c6-e04c-4d1b-8ac5-e8dd5535ac8c",
                "extensions": {
                    "azuredatastudio": {
                        "views": []
                    }
                }
            }
        },
        {
            "cell_type": "code",
            "source": [
                "Remove-AzResourceGroup -ResourceGroupName $resourceGroupName"
            ],
            "metadata": {
                "azdata_cell_guid": "56e2fc47-d5e0-4a2f-b413-d7cc782e10c6",
                "extensions": {
                    "azuredatastudio": {
                        "views": []
                    }
                }
            },
            "outputs": [],
            "execution_count": null
        }
    ]
}