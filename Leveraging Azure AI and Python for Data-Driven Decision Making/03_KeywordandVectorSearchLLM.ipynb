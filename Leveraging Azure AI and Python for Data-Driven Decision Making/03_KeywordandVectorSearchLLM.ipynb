{
    "cells": [
        {
            "attachments": {},
            "cell_type": "markdown",
            "metadata": {
                "azdata_cell_guid": "7072836e-2fea-404f-842b-585390389968"
            },
            "source": [
                "## PreReqPlusFourDemo.ipynb\n",
                "\n",
                "### Author: Taiob Ali\n",
                "\n",
                "- Contact: taiob@sqlworlwide.com\n",
                "- https://bsky.app/profile/sqlworldwide.bsky.social\n",
                "- https://sqlworldwide.com/\n",
                "- https://www.linkedin.com/in/sqlworldwide/\n",
                "\n",
                "Last Modefied\n",
                "September 10, 2025"
            ]
        },
        {
            "cell_type": "markdown",
            "metadata": {},
            "source": [
                "## Prerequisite:\n",
                "\n",
                "- Azure SQL Database with data to play with\n",
                "    \n",
                "    - Sample database (I am using a .bacpac file that I can share with you)\n",
                "    - [Amazon Sales Dataset](https:\\www.kaggle.com\\datasets\\karkavelrajaj\\amazon-sales-dataset)\n",
                "    - Server Name: ta-aidemosqlserver.database.windows.net\n",
                "    - Database Name: testdata\n",
                "    \n",
                "- Create an [Azure AI Search](https:\\learn.microsoft.com\\en-us\\azure\\search\\search-what-is-azure-search) Service where you import data for indexing name \"ta-azureaisearch\"\n",
                "    \n",
                "    - Create a data source pointing to dbo.Customer table named \"ta-datasource-customer\"\n",
                "    - Create an index using the above data source named \"ta-index-customer\", name the indexer \"ta-indexer-customer\"\n",
                "    - <span style=\"font-size: 14px;\">Using&nbsp;</span>  'Import and vectorize data' option create an index using the above data source on dbo.walmartProducts table from the testdata database name 'ta-vector-walmartproducts'\n",
                "- Create an [Azure OpenAI](https:\\learn.microsoft.com\\en-us\\azure\\ai-services\\openai) service where you deploy the model and interact with the indexed data name \"ta-openai\"\n",
                "    \n",
                "    - <span style=\"color: var(--vscode-foreground); background-color: rgba(127, 127, 127, 0.1);\">Deploy base model gpt-4 name ta-model-gpt-4</span>\n",
                "    - Deploy model text-embedding-ada-002 name 'ta-model-text-embedding-ada-002'"
            ]
        },
        {
            "attachments": {},
            "cell_type": "markdown",
            "metadata": {
                "azdata_cell_guid": "23d2410d-111f-453b-b2d2-960bdc0a853c"
            },
            "source": [
                "## Demo: Keyword search with Large Language Model (LLM)\n",
                "\n",
                "- Using Azure Ai Seach service named \"ta-openai\"\n",
                "    \n",
                "    - Create an index on dbo.customer table from the testdata database name ta-index-customer\n",
                "- Deploy model GPT-4 \n",
                "    \n",
                "    - Deploy base model gpt-4 name ta-model-gpt-4\n",
                "    - Add data ta-index-customer, Search type Keyword, authentication API Key, \n",
                "    - Give the model instructions and context: You are an AI assistant who helps company executives gain customer insight. Please provide as many details as possible about each customer, such as first name, last name, and which company they represent. Whenever you respond, please format your answer to make it very readable, including bullet points.\n",
                "    \n",
                "- Question:\n",
                "    \n",
                "    - What customer names work for the company, ' Bikes and Motorbikes'?\n",
                "    - Which company name has the most customers? (if not getting an answer, tweak the 'Retrieved documents' setting)\n",
                "    - Which customer uses the phone number 783-555-0110?"
            ]
        },
        {
            "cell_type": "raw",
            "metadata": {
                "azdata_cell_guid": "82740020-49ce-4d81-b22b-e659329d1768",
                "language": "sql",
                "vscode": {
                    "languageId": "raw"
                }
            },
            "source": [
                "/*\n",
                "Verify the answer of question: What customer names work for the company, ' Bikes and Motorbikes'?\n",
                "*/\n",
                "SELECT \n",
                "\tFirstName,\n",
                "\tLastName,\n",
                "\tCompanyName\n",
                "FROM [dbo].customer\n",
                "WHERE CompanyName ='Bikes and Motorbikes';"
            ]
        },
        {
            "cell_type": "raw",
            "metadata": {
                "azdata_cell_guid": "e62f9632-aeff-4c60-98ec-5bc577d8744a",
                "language": "sql",
                "vscode": {
                    "languageId": "raw"
                }
            },
            "source": [
                "/*\n",
                "Verify the answer of question: Which company name has the most number of customers?\n",
                "*/\n",
                "SELECT\n",
                "\tcompanyname, \n",
                "\tCOUNT(0) AS countOfCustomersPerCompany\n",
                "FROM dbo.customer\n",
                "GROUP BY companyname\n",
                "ORDER BY countOfCustomersPerCompany DESC, companyname;\n",
                "\n",
                "SELECT \n",
                "\t* \n",
                "FROM DBO.customer \n",
                "WHERE companyname ='Locks Company';"
            ]
        },
        {
            "cell_type": "raw",
            "metadata": {
                "vscode": {
                    "languageId": "raw"
                }
            },
            "source": [
                "# Verify the answer of question: Which customer uses the phone number '783-555-0110'?\n",
                "\n",
                "SELECT \n",
                "\tFirstName,\n",
                "\tLastName,\n",
                "\tPhone\n",
                "FROM [dbo].customer\n",
                "WHERE Phone ='783-555-0110';"
            ]
        },
        {
            "attachments": {},
            "cell_type": "markdown",
            "metadata": {
                "azdata_cell_guid": "7be6c0c4-96b5-4747-9966-228adb5dfde2",
                "language": "sql"
            },
            "source": [
                "## Demo: [Integrated Vectorization](https:\\techcommunity.microsoft.com\\blog\\azure-ai-services-blog\\announcing-the-public-preview-of-integrated-vectorization-in-azure-ai-search\\3960809), Semantic ranker with Azure SQL DatabaseDeploy model text-embedding-ada-002 with vector search\n",
                "\n",
                "- Deploy model text-embedding-ada-002 name 'ta-model-text-embedding-ada-002'\n",
                "    \n",
                "- Using AI Azure Seach service\n",
                "    \n",
                "    - Create an index on dbo.walmartProducts table from the testdata database name 'ta-vector-walmartproducts'\n",
                "    - Use 'Import and vectorize data' option\n",
                "    - Search for 'Curtain' and 'Furniture' using built-in [Search Explorer](https:\\learn.microsoft.com\\en-us\\azure\\search\\search-explorer)\n",
                "        - Query options turn on 'Hide vector values in search results.'\n",
                "    - Do a search with JSON, which allows parameterized queries.\n",
                "    \n",
                "    ```\n",
                "    {\n",
                "    \"search\": \"upscale sandal\",\n",
                "    \"count\": true,\n",
                "    \"select\": \"brand, review_count, product_id, product_name, discount\",\n",
                "    \"top\": 100\n",
                "     }\n",
                "    \n",
                "    ```\n",
                "    \n",
                "- Question in Azure OpenAI service (using Azure AI studio)\n",
                "    \n",
                "    - <span style=\"background-color: rgba(127, 127, 127, 0.1); color: var(--vscode-foreground);\"></span><span style=\"font-size: 14px;\">I am on a tight budget, but I need inexpensive furniture options that are easy to install and make my living room more appealing</span>.\n",
                "- Give the mode instructions and ask the same questions (see the difference in quality of the answer)\n",
                "    \n",
                "    - You are an AI assistant who helps people shop for products. Provide as many details as possible about each product, including the price. When you respond, format your answer to be highly readable, using bullet points."
            ]
        }
    ],
    "metadata": {
        "kernelspec": {
            "display_name": "Python 3",
            "language": "python",
            "name": "python3"
        },
        "language_info": {
            "codemirror_mode": {
                "name": "ipython",
                "version": 3
            },
            "file_extension": ".py",
            "mimetype": "text/x-python",
            "name": "python",
            "nbconvert_exporter": "python",
            "pygments_lexer": "ipython3",
            "version": "3.13.7"
        }
    },
    "nbformat": 4,
    "nbformat_minor": 2
}
